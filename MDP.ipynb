{
  "cells": [
    {
      "cell_type": "code",
      "execution_count": 127,
      "metadata": {
        "id": "fhRrpjoINeEs"
      },
      "outputs": [],
      "source": [
        "import numpy as np # linear algebra\n",
        "import pandas as pd # data processing, CSV file I/O (e.g. pd.read_csv)\n",
        "%matplotlib inline\n",
        "import matplotlib as mpl\n",
        "import matplotlib.pyplot as plt\n",
        "import seaborn as sns\n",
        "from sklearn.preprocessing import LabelEncoder\n",
        "from sklearn.model_selection import train_test_split\n",
        "from sklearn.ensemble import RandomForestClassifier\n",
        "from sklearn.svm import SVC\n",
        "from sklearn.metrics import accuracy_score\n",
        "from sklearn.metrics import classification_report\n",
        "from sklearn.linear_model import LogisticRegression\n",
        "from sklearn.preprocessing import StandardScaler\n",
        "import lightgbm as lgb\n",
        "import xgboost as xgb\n",
        "from sklearn.ensemble import RandomForestClassifier\n",
        "\n",
        "\n",
        "\n",
        "#import datetime\n",
        "#import random\n",
        "#import os\n",
        "#for dirname, _, filenames in os.walk('/kaggle/input'):\n",
        "#    for filename in filenames:\n",
        "#        print(os.path.join(dirname, filename))\n"
      ]
    },
    {
      "cell_type": "code",
      "execution_count": 128,
      "metadata": {
        "id": "Sg69xXyvduQm"
      },
      "outputs": [],
      "source": [
        "df = pd.read_excel('D:\\MDP\\Effects of Depression  Anxiety on Academic Performance among the students (respuestas) (1).xlsx')"
      ]
    },
    {
      "cell_type": "code",
      "execution_count": 129,
      "metadata": {
        "colab": {
          "base_uri": "https://localhost:8080/",
          "height": 860
        },
        "id": "KK6VDdZGd6Ob",
        "outputId": "c0555542-b3d7-48b4-c11d-1ee295ebfc7f"
      },
      "outputs": [
        {
          "data": {
            "text/html": [
              "<div>\n",
              "<style scoped>\n",
              "    .dataframe tbody tr th:only-of-type {\n",
              "        vertical-align: middle;\n",
              "    }\n",
              "\n",
              "    .dataframe tbody tr th {\n",
              "        vertical-align: top;\n",
              "    }\n",
              "\n",
              "    .dataframe thead th {\n",
              "        text-align: right;\n",
              "    }\n",
              "</style>\n",
              "<table border=\"1\" class=\"dataframe\">\n",
              "  <thead>\n",
              "    <tr style=\"text-align: right;\">\n",
              "      <th></th>\n",
              "      <th>Gender:</th>\n",
              "      <th>Age:</th>\n",
              "      <th>Educational Level</th>\n",
              "      <th>Little interest or pleasure in doing things</th>\n",
              "      <th>Feeling down, depressed, or hopeless</th>\n",
              "      <th>Trouble falling or staying asleep, or sleeping too much</th>\n",
              "      <th>Feeling tired or having little energy</th>\n",
              "      <th>Poor appetite or overeating</th>\n",
              "      <th>Feeling bad about yourself or that you are a failure or not have let yourself or your family down</th>\n",
              "      <th>Trouble concentrating on things, such as reading the newspaper or watching television</th>\n",
              "      <th>Moving or speaking so slowly that other people could have noticed Or being so restless that you have been moving around a lot more than usual</th>\n",
              "      <th>Thoughts that you would be better off dead or of hurting yourself in some way</th>\n",
              "      <th>Do you have part-time or full-time job?</th>\n",
              "      <th>Which of the following best describes your term-time accommodation?</th>\n",
              "      <th>How many hours do you spend studying each day?</th>\n",
              "      <th>How many of the electronic gadgets (e.g. mobile phone, computer, laptop, PSP, PS4, Wii, etc.) do you have in your home or your student accommodation/mess/hall?</th>\n",
              "      <th>How many hours do you spend on social media per day?</th>\n",
              "      <th>Your Last Semester GPA:</th>\n",
              "    </tr>\n",
              "  </thead>\n",
              "  <tbody>\n",
              "    <tr>\n",
              "      <th>0</th>\n",
              "      <td>Male</td>\n",
              "      <td>19 to 24 years</td>\n",
              "      <td>College - Bachelor's</td>\n",
              "      <td>3</td>\n",
              "      <td>2</td>\n",
              "      <td>4</td>\n",
              "      <td>4</td>\n",
              "      <td>3</td>\n",
              "      <td>3</td>\n",
              "      <td>4</td>\n",
              "      <td>3</td>\n",
              "      <td>2</td>\n",
              "      <td>Part time</td>\n",
              "      <td>Home (with parents)</td>\n",
              "      <td>2 - 4 hours</td>\n",
              "      <td>4 - 6</td>\n",
              "      <td>More than 4 Hours</td>\n",
              "      <td>2.30</td>\n",
              "    </tr>\n",
              "    <tr>\n",
              "      <th>1</th>\n",
              "      <td>Male</td>\n",
              "      <td>19 to 24 years</td>\n",
              "      <td>College - Bachelor's</td>\n",
              "      <td>2</td>\n",
              "      <td>1</td>\n",
              "      <td>2</td>\n",
              "      <td>1</td>\n",
              "      <td>1</td>\n",
              "      <td>1</td>\n",
              "      <td>1</td>\n",
              "      <td>1</td>\n",
              "      <td>1</td>\n",
              "      <td>Part time</td>\n",
              "      <td>University hall of residence</td>\n",
              "      <td>1 - 2 hours</td>\n",
              "      <td>1 - 3</td>\n",
              "      <td>1 - 2 Hours</td>\n",
              "      <td>2.70</td>\n",
              "    </tr>\n",
              "    <tr>\n",
              "      <th>2</th>\n",
              "      <td>Female</td>\n",
              "      <td>18 years or less</td>\n",
              "      <td>High School</td>\n",
              "      <td>2</td>\n",
              "      <td>2</td>\n",
              "      <td>2</td>\n",
              "      <td>2</td>\n",
              "      <td>1</td>\n",
              "      <td>1</td>\n",
              "      <td>2</td>\n",
              "      <td>2</td>\n",
              "      <td>1</td>\n",
              "      <td>No</td>\n",
              "      <td>Home (with parents)</td>\n",
              "      <td>1 - 2 hours</td>\n",
              "      <td>1 - 3</td>\n",
              "      <td>More than 4 Hours</td>\n",
              "      <td>2.97</td>\n",
              "    </tr>\n",
              "    <tr>\n",
              "      <th>3</th>\n",
              "      <td>Female</td>\n",
              "      <td>18 years or less</td>\n",
              "      <td>High School</td>\n",
              "      <td>3</td>\n",
              "      <td>1</td>\n",
              "      <td>2</td>\n",
              "      <td>3</td>\n",
              "      <td>3</td>\n",
              "      <td>1</td>\n",
              "      <td>1</td>\n",
              "      <td>1</td>\n",
              "      <td>2</td>\n",
              "      <td>No</td>\n",
              "      <td>Home (with parents)</td>\n",
              "      <td>1 - 2 hours</td>\n",
              "      <td>More than 6</td>\n",
              "      <td>2 - 4 Hours</td>\n",
              "      <td>2.74</td>\n",
              "    </tr>\n",
              "    <tr>\n",
              "      <th>4</th>\n",
              "      <td>Male</td>\n",
              "      <td>18 years or less</td>\n",
              "      <td>High School</td>\n",
              "      <td>1</td>\n",
              "      <td>2</td>\n",
              "      <td>2</td>\n",
              "      <td>3</td>\n",
              "      <td>1</td>\n",
              "      <td>1</td>\n",
              "      <td>3</td>\n",
              "      <td>1</td>\n",
              "      <td>1</td>\n",
              "      <td>Part time</td>\n",
              "      <td>Home (with parents)</td>\n",
              "      <td>1 - 2 hours</td>\n",
              "      <td>4 - 6</td>\n",
              "      <td>More than 4 Hours</td>\n",
              "      <td>3.37</td>\n",
              "    </tr>\n",
              "  </tbody>\n",
              "</table>\n",
              "</div>"
            ],
            "text/plain": [
              "  Gender:              Age:     Educational Level  \\\n",
              "0    Male    19 to 24 years  College - Bachelor's   \n",
              "1    Male    19 to 24 years  College - Bachelor's   \n",
              "2  Female  18 years or less           High School   \n",
              "3  Female  18 years or less           High School   \n",
              "4    Male  18 years or less           High School   \n",
              "\n",
              "   Little interest or pleasure in doing things   \\\n",
              "0                                             3   \n",
              "1                                             2   \n",
              "2                                             2   \n",
              "3                                             3   \n",
              "4                                             1   \n",
              "\n",
              "   Feeling down, depressed, or hopeless  \\\n",
              "0                                     2   \n",
              "1                                     1   \n",
              "2                                     2   \n",
              "3                                     1   \n",
              "4                                     2   \n",
              "\n",
              "   Trouble falling or staying asleep, or sleeping too much  \\\n",
              "0                                                  4         \n",
              "1                                                  2         \n",
              "2                                                  2         \n",
              "3                                                  2         \n",
              "4                                                  2         \n",
              "\n",
              "   Feeling tired or having little energy  Poor appetite or overeating  \\\n",
              "0                                      4                            3   \n",
              "1                                      1                            1   \n",
              "2                                      2                            1   \n",
              "3                                      3                            3   \n",
              "4                                      3                            1   \n",
              "\n",
              "   Feeling bad about yourself or that you are a failure or not have let yourself or your family down  \\\n",
              "0                                                  3                                                   \n",
              "1                                                  1                                                   \n",
              "2                                                  1                                                   \n",
              "3                                                  1                                                   \n",
              "4                                                  1                                                   \n",
              "\n",
              "   Trouble concentrating on things, such as reading the newspaper or watching television  \\\n",
              "0                                                  4                                       \n",
              "1                                                  1                                       \n",
              "2                                                  2                                       \n",
              "3                                                  1                                       \n",
              "4                                                  3                                       \n",
              "\n",
              "   Moving or speaking so slowly that other people could have noticed Or being so restless that you have been moving around a lot more than usual  \\\n",
              "0                                                  3                                                                                               \n",
              "1                                                  1                                                                                               \n",
              "2                                                  2                                                                                               \n",
              "3                                                  1                                                                                               \n",
              "4                                                  1                                                                                               \n",
              "\n",
              "   Thoughts that you would be better off dead or of hurting yourself in some way  \\\n",
              "0                                                  2                               \n",
              "1                                                  1                               \n",
              "2                                                  1                               \n",
              "3                                                  2                               \n",
              "4                                                  1                               \n",
              "\n",
              "  Do you have part-time or full-time job?   \\\n",
              "0                                Part time   \n",
              "1                                Part time   \n",
              "2                                       No   \n",
              "3                                       No   \n",
              "4                                Part time   \n",
              "\n",
              "  Which of the following best describes your term-time accommodation?  \\\n",
              "0                                Home (with parents)                    \n",
              "1                       University hall of residence                    \n",
              "2                                Home (with parents)                    \n",
              "3                                Home (with parents)                    \n",
              "4                                Home (with parents)                    \n",
              "\n",
              "  How many hours do you spend studying each day?  \\\n",
              "0                                    2 - 4 hours   \n",
              "1                                    1 - 2 hours   \n",
              "2                                    1 - 2 hours   \n",
              "3                                    1 - 2 hours   \n",
              "4                                    1 - 2 hours   \n",
              "\n",
              "  How many of the electronic gadgets (e.g. mobile phone, computer, laptop, PSP, PS4, Wii, etc.) do you have in your home or your student accommodation/mess/hall?  \\\n",
              "0                                              4 - 6                                                                                                                \n",
              "1                                              1 - 3                                                                                                                \n",
              "2                                              1 - 3                                                                                                                \n",
              "3                                        More than 6                                                                                                                \n",
              "4                                              4 - 6                                                                                                                \n",
              "\n",
              "  How many hours do you spend on social media per day?  \\\n",
              "0                                  More than 4 Hours     \n",
              "1                                        1 - 2 Hours     \n",
              "2                                  More than 4 Hours     \n",
              "3                                        2 - 4 Hours     \n",
              "4                                  More than 4 Hours     \n",
              "\n",
              "  Your Last Semester GPA:   \n",
              "0                     2.30  \n",
              "1                     2.70  \n",
              "2                     2.97  \n",
              "3                     2.74  \n",
              "4                     3.37  "
            ]
          },
          "execution_count": 129,
          "metadata": {},
          "output_type": "execute_result"
        }
      ],
      "source": [
        "df.head()"
      ]
    },
    {
      "cell_type": "code",
      "execution_count": 130,
      "metadata": {
        "colab": {
          "base_uri": "https://localhost:8080/"
        },
        "id": "xo5RIZmKefVB",
        "outputId": "d52900fc-e3b5-487f-defd-d4248ab69b9b"
      },
      "outputs": [
        {
          "data": {
            "text/plain": [
              "Gender:                                                                                                                                                            object\n",
              "Age:                                                                                                                                                               object\n",
              "Educational Level                                                                                                                                                  object\n",
              "Little interest or pleasure in doing things                                                                                                                         int64\n",
              "Feeling down, depressed, or hopeless                                                                                                                                int64\n",
              "Trouble falling or staying asleep, or sleeping too much                                                                                                             int64\n",
              "Feeling tired or having little energy                                                                                                                               int64\n",
              "Poor appetite or overeating                                                                                                                                         int64\n",
              "Feeling bad about yourself or that you are a failure or not have let yourself or your family down                                                                   int64\n",
              "Trouble concentrating on things, such as reading the newspaper or watching television                                                                               int64\n",
              "Moving or speaking so slowly that other people could have noticed Or being so restless that you have been moving around a lot more than usual                       int64\n",
              "Thoughts that you would be better off dead or of hurting yourself in some way                                                                                       int64\n",
              "Do you have part-time or full-time job?                                                                                                                            object\n",
              "Which of the following best describes your term-time accommodation?                                                                                                object\n",
              "How many hours do you spend studying each day?                                                                                                                     object\n",
              "How many of the electronic gadgets (e.g. mobile phone, computer, laptop, PSP, PS4, Wii, etc.) do you have in your home or your student accommodation/mess/hall?    object\n",
              "How many hours do you spend on social media per day?                                                                                                               object\n",
              "Your Last Semester GPA:                                                                                                                                            object\n",
              "dtype: object"
            ]
          },
          "execution_count": 130,
          "metadata": {},
          "output_type": "execute_result"
        }
      ],
      "source": [
        "df.dtypes"
      ]
    },
    {
      "cell_type": "code",
      "execution_count": 131,
      "metadata": {
        "id": "dMeoMyTwkoo6"
      },
      "outputs": [],
      "source": [
        "column_mapping = {\n",
        "    \"GenderL\": \"Gender\",\n",
        "    \"Age\": \"Age\",\n",
        "    \"Educational Level\": \"Education\",\n",
        "    \"Little interest or pleasure in doing things\": \"Interest\",\n",
        "    \"Feeling down, depressed, or hopeless\": \"Depression\",\n",
        "    \"Trouble falling or staying asleep, or sleeping too much\": \"Sleep\",\n",
        "    \"Feeling tired or having little energy\": \"Energy\",\n",
        "    \"Poor appetite or overeating\": \"Appetite\",\n",
        "    \"Feeling bad about yourself or that you are a failure or not have let yourself or your family down\": \"Self_Worth\",\n",
        "    \"Trouble concentrating on things, such as reading the newspaper or watching television\": \"Concentration\",\n",
        "    \"Moving or speaking so slowly that other people could have noticed Or being so restless that you have been moving around a lot more than usual\": \"Restlessness\",\n",
        "    \"Thoughts that you would be better off dead or of hurting yourself in some way\": \"Suicidal_Thoughts\",\n",
        "    \"Do you have part-time or full-time job?\": \"Job\",\n",
        "    \"Which of the following best describes your term-time accommodation?\": \"Accommodation\",\n",
        "    \"How many hours do you spend studying each day?\": \"Study_Hours\",\n",
        "    \"How many of the electronic gadgets (e.g. mobile phone, computer, laptop, PSP, PS4, Wii, etc.) do you have in your home or your student accommodation/mess/hall?\": \"Gadgets_Count\",\n",
        "    \"How many hours do you spend on social media per day?\": \"Social_Media_Hours\",\n",
        "    \"Your Last Semester GPA:\": \"GPA\"\n",
        "}\n",
        "\n",
        "# Rename the columns using the dictionary mapping\n",
        "df.columns = df.columns.str.strip()\n",
        "\n",
        "df = df.rename(columns=column_mapping)\n"
      ]
    },
    {
      "cell_type": "code",
      "execution_count": 132,
      "metadata": {
        "colab": {
          "base_uri": "https://localhost:8080/"
        },
        "id": "OyUWvHtoNdXG",
        "outputId": "f2bb82e0-a6b2-4ee6-bd75-561ac1595838"
      },
      "outputs": [
        {
          "data": {
            "text/plain": [
              "0      2.30\n",
              "1      2.70\n",
              "2      2.97\n",
              "3      2.74\n",
              "4      3.37\n",
              "       ... \n",
              "347     4.0\n",
              "348     4.0\n",
              "349    3.35\n",
              "350    3.35\n",
              "351    2.30\n",
              "Name: GPA, Length: 352, dtype: object"
            ]
          },
          "execution_count": 132,
          "metadata": {},
          "output_type": "execute_result"
        }
      ],
      "source": [
        "df['GPA']"
      ]
    },
    {
      "cell_type": "code",
      "execution_count": 133,
      "metadata": {},
      "outputs": [
        {
          "name": "stdout",
          "output_type": "stream",
          "text": [
            "College - Bachelor's\n",
            "High School\n",
            "Master\n"
          ]
        }
      ],
      "source": [
        "unique_values = df['Education'].unique()\n",
        "\n",
        "# Print the unique values\n",
        "for value in unique_values:\n",
        "    print(value)"
      ]
    },
    {
      "cell_type": "code",
      "execution_count": 134,
      "metadata": {
        "colab": {
          "base_uri": "https://localhost:8080/"
        },
        "id": "GB_Zdm6iKJNR",
        "outputId": "458276b6-b79b-4181-c501-a2f526c766f7"
      },
      "outputs": [
        {
          "name": "stderr",
          "output_type": "stream",
          "text": [
            "C:\\Users\\rohit\\AppData\\Local\\Temp\\ipykernel_17924\\2321030610.py:13: SettingWithCopyWarning: \n",
            "A value is trying to be set on a copy of a slice from a DataFrame\n",
            "\n",
            "See the caveats in the documentation: https://pandas.pydata.org/pandas-docs/stable/user_guide/indexing.html#returning-a-view-versus-a-copy\n",
            "  df['GPA'][i]=2\n",
            "C:\\Users\\rohit\\AppData\\Local\\Temp\\ipykernel_17924\\2321030610.py:10: SettingWithCopyWarning: \n",
            "A value is trying to be set on a copy of a slice from a DataFrame\n",
            "\n",
            "See the caveats in the documentation: https://pandas.pydata.org/pandas-docs/stable/user_guide/indexing.html#returning-a-view-versus-a-copy\n",
            "  df[\"GPA\"][i]=3\n",
            "C:\\Users\\rohit\\AppData\\Local\\Temp\\ipykernel_17924\\2321030610.py:8: SettingWithCopyWarning: \n",
            "A value is trying to be set on a copy of a slice from a DataFrame\n",
            "\n",
            "See the caveats in the documentation: https://pandas.pydata.org/pandas-docs/stable/user_guide/indexing.html#returning-a-view-versus-a-copy\n",
            "  df['GPA'][i]=4\n"
          ]
        }
      ],
      "source": [
        "i=0\n",
        "for val in df['GPA']:\n",
        "  if float(val)> 4.0:\n",
        "    df['GPA'][i]=5\n",
        "    i=i+1\n",
        "  elif float(val)>3.5:\n",
        "    i=i+1\n",
        "    df['GPA'][i]=4\n",
        "  elif float(val)>3.0:\n",
        "    df[\"GPA\"][i]=3\n",
        "    i=i+1\n",
        "  elif float(val)>2.0:\n",
        "    df['GPA'][i]=2\n",
        "    i=i+1\n",
        "  elif float(val)>1.0:\n",
        "    df['GPA']=1.0\n",
        "    i=i+1"
      ]
    },
    {
      "cell_type": "code",
      "execution_count": 135,
      "metadata": {
        "colab": {
          "base_uri": "https://localhost:8080/"
        },
        "id": "JZ8KXbkhMgVQ",
        "outputId": "f211db46-5a97-4c65-a5b9-964b458eb62b"
      },
      "outputs": [
        {
          "data": {
            "text/plain": [
              "2"
            ]
          },
          "execution_count": 135,
          "metadata": {},
          "output_type": "execute_result"
        }
      ],
      "source": [
        "df['GPA'][0]"
      ]
    },
    {
      "cell_type": "code",
      "execution_count": 136,
      "metadata": {
        "colab": {
          "base_uri": "https://localhost:8080/",
          "height": 495
        },
        "id": "XqGeAa9WlFBB",
        "outputId": "7adbf10c-40fa-4925-cd92-7ab1d08d7de9"
      },
      "outputs": [
        {
          "data": {
            "text/html": [
              "<div>\n",
              "<style scoped>\n",
              "    .dataframe tbody tr th:only-of-type {\n",
              "        vertical-align: middle;\n",
              "    }\n",
              "\n",
              "    .dataframe tbody tr th {\n",
              "        vertical-align: top;\n",
              "    }\n",
              "\n",
              "    .dataframe thead th {\n",
              "        text-align: right;\n",
              "    }\n",
              "</style>\n",
              "<table border=\"1\" class=\"dataframe\">\n",
              "  <thead>\n",
              "    <tr style=\"text-align: right;\">\n",
              "      <th></th>\n",
              "      <th>Gender:</th>\n",
              "      <th>Age:</th>\n",
              "      <th>Education</th>\n",
              "      <th>Interest</th>\n",
              "      <th>Depression</th>\n",
              "      <th>Sleep</th>\n",
              "      <th>Energy</th>\n",
              "      <th>Appetite</th>\n",
              "      <th>Self_Worth</th>\n",
              "      <th>Concentration</th>\n",
              "      <th>Restlessness</th>\n",
              "      <th>Suicidal_Thoughts</th>\n",
              "      <th>Job</th>\n",
              "      <th>Accommodation</th>\n",
              "      <th>Study_Hours</th>\n",
              "      <th>Gadgets_Count</th>\n",
              "      <th>Social_Media_Hours</th>\n",
              "      <th>GPA</th>\n",
              "    </tr>\n",
              "  </thead>\n",
              "  <tbody>\n",
              "    <tr>\n",
              "      <th>0</th>\n",
              "      <td>Male</td>\n",
              "      <td>19 to 24 years</td>\n",
              "      <td>College - Bachelor's</td>\n",
              "      <td>3</td>\n",
              "      <td>2</td>\n",
              "      <td>4</td>\n",
              "      <td>4</td>\n",
              "      <td>3</td>\n",
              "      <td>3</td>\n",
              "      <td>4</td>\n",
              "      <td>3</td>\n",
              "      <td>2</td>\n",
              "      <td>Part time</td>\n",
              "      <td>Home (with parents)</td>\n",
              "      <td>2 - 4 hours</td>\n",
              "      <td>4 - 6</td>\n",
              "      <td>More than 4 Hours</td>\n",
              "      <td>2</td>\n",
              "    </tr>\n",
              "    <tr>\n",
              "      <th>1</th>\n",
              "      <td>Male</td>\n",
              "      <td>19 to 24 years</td>\n",
              "      <td>College - Bachelor's</td>\n",
              "      <td>2</td>\n",
              "      <td>1</td>\n",
              "      <td>2</td>\n",
              "      <td>1</td>\n",
              "      <td>1</td>\n",
              "      <td>1</td>\n",
              "      <td>1</td>\n",
              "      <td>1</td>\n",
              "      <td>1</td>\n",
              "      <td>Part time</td>\n",
              "      <td>University hall of residence</td>\n",
              "      <td>1 - 2 hours</td>\n",
              "      <td>1 - 3</td>\n",
              "      <td>1 - 2 Hours</td>\n",
              "      <td>2</td>\n",
              "    </tr>\n",
              "    <tr>\n",
              "      <th>2</th>\n",
              "      <td>Female</td>\n",
              "      <td>18 years or less</td>\n",
              "      <td>High School</td>\n",
              "      <td>2</td>\n",
              "      <td>2</td>\n",
              "      <td>2</td>\n",
              "      <td>2</td>\n",
              "      <td>1</td>\n",
              "      <td>1</td>\n",
              "      <td>2</td>\n",
              "      <td>2</td>\n",
              "      <td>1</td>\n",
              "      <td>No</td>\n",
              "      <td>Home (with parents)</td>\n",
              "      <td>1 - 2 hours</td>\n",
              "      <td>1 - 3</td>\n",
              "      <td>More than 4 Hours</td>\n",
              "      <td>2</td>\n",
              "    </tr>\n",
              "    <tr>\n",
              "      <th>3</th>\n",
              "      <td>Female</td>\n",
              "      <td>18 years or less</td>\n",
              "      <td>High School</td>\n",
              "      <td>3</td>\n",
              "      <td>1</td>\n",
              "      <td>2</td>\n",
              "      <td>3</td>\n",
              "      <td>3</td>\n",
              "      <td>1</td>\n",
              "      <td>1</td>\n",
              "      <td>1</td>\n",
              "      <td>2</td>\n",
              "      <td>No</td>\n",
              "      <td>Home (with parents)</td>\n",
              "      <td>1 - 2 hours</td>\n",
              "      <td>More than 6</td>\n",
              "      <td>2 - 4 Hours</td>\n",
              "      <td>2</td>\n",
              "    </tr>\n",
              "    <tr>\n",
              "      <th>4</th>\n",
              "      <td>Male</td>\n",
              "      <td>18 years or less</td>\n",
              "      <td>High School</td>\n",
              "      <td>1</td>\n",
              "      <td>2</td>\n",
              "      <td>2</td>\n",
              "      <td>3</td>\n",
              "      <td>1</td>\n",
              "      <td>1</td>\n",
              "      <td>3</td>\n",
              "      <td>1</td>\n",
              "      <td>1</td>\n",
              "      <td>Part time</td>\n",
              "      <td>Home (with parents)</td>\n",
              "      <td>1 - 2 hours</td>\n",
              "      <td>4 - 6</td>\n",
              "      <td>More than 4 Hours</td>\n",
              "      <td>3</td>\n",
              "    </tr>\n",
              "  </tbody>\n",
              "</table>\n",
              "</div>"
            ],
            "text/plain": [
              "  Gender:              Age:             Education  Interest  Depression  \\\n",
              "0    Male    19 to 24 years  College - Bachelor's         3           2   \n",
              "1    Male    19 to 24 years  College - Bachelor's         2           1   \n",
              "2  Female  18 years or less           High School         2           2   \n",
              "3  Female  18 years or less           High School         3           1   \n",
              "4    Male  18 years or less           High School         1           2   \n",
              "\n",
              "   Sleep  Energy  Appetite  Self_Worth  Concentration  Restlessness  \\\n",
              "0      4       4         3           3              4             3   \n",
              "1      2       1         1           1              1             1   \n",
              "2      2       2         1           1              2             2   \n",
              "3      2       3         3           1              1             1   \n",
              "4      2       3         1           1              3             1   \n",
              "\n",
              "   Suicidal_Thoughts        Job                 Accommodation  Study_Hours  \\\n",
              "0                  2  Part time           Home (with parents)  2 - 4 hours   \n",
              "1                  1  Part time  University hall of residence  1 - 2 hours   \n",
              "2                  1         No           Home (with parents)  1 - 2 hours   \n",
              "3                  2         No           Home (with parents)  1 - 2 hours   \n",
              "4                  1  Part time           Home (with parents)  1 - 2 hours   \n",
              "\n",
              "  Gadgets_Count Social_Media_Hours GPA  \n",
              "0         4 - 6  More than 4 Hours   2  \n",
              "1         1 - 3        1 - 2 Hours   2  \n",
              "2         1 - 3  More than 4 Hours   2  \n",
              "3   More than 6        2 - 4 Hours   2  \n",
              "4         4 - 6  More than 4 Hours   3  "
            ]
          },
          "execution_count": 136,
          "metadata": {},
          "output_type": "execute_result"
        }
      ],
      "source": [
        "df.head()"
      ]
    },
    {
      "cell_type": "code",
      "execution_count": 137,
      "metadata": {
        "id": "3127tnsjlGh-"
      },
      "outputs": [],
      "source": [
        "\n",
        "\n",
        "for column in df.columns:\n",
        "     df[column]=df[column].astype(str)\n",
        "\n",
        "\n",
        "\n"
      ]
    },
    {
      "cell_type": "code",
      "execution_count": 138,
      "metadata": {
        "id": "ffr4B9q7wI5U"
      },
      "outputs": [],
      "source": [
        "label_encoder = LabelEncoder()\n",
        "for column in df.columns:\n",
        "   # if df[column].dtype == object:\n",
        "        df[column] =label_encoder.fit_transform(df[column])"
      ]
    },
    {
      "cell_type": "code",
      "execution_count": 139,
      "metadata": {
        "colab": {
          "base_uri": "https://localhost:8080/",
          "height": 270
        },
        "id": "iO13L2fKzGkn",
        "outputId": "ee46fbe8-cc2b-4b65-abc7-3f53908eb10f"
      },
      "outputs": [
        {
          "data": {
            "text/html": [
              "<div>\n",
              "<style scoped>\n",
              "    .dataframe tbody tr th:only-of-type {\n",
              "        vertical-align: middle;\n",
              "    }\n",
              "\n",
              "    .dataframe tbody tr th {\n",
              "        vertical-align: top;\n",
              "    }\n",
              "\n",
              "    .dataframe thead th {\n",
              "        text-align: right;\n",
              "    }\n",
              "</style>\n",
              "<table border=\"1\" class=\"dataframe\">\n",
              "  <thead>\n",
              "    <tr style=\"text-align: right;\">\n",
              "      <th></th>\n",
              "      <th>Gender:</th>\n",
              "      <th>Age:</th>\n",
              "      <th>Education</th>\n",
              "      <th>Interest</th>\n",
              "      <th>Depression</th>\n",
              "      <th>Sleep</th>\n",
              "      <th>Energy</th>\n",
              "      <th>Appetite</th>\n",
              "      <th>Self_Worth</th>\n",
              "      <th>Concentration</th>\n",
              "      <th>Restlessness</th>\n",
              "      <th>Suicidal_Thoughts</th>\n",
              "      <th>Job</th>\n",
              "      <th>Accommodation</th>\n",
              "      <th>Study_Hours</th>\n",
              "      <th>Gadgets_Count</th>\n",
              "      <th>Social_Media_Hours</th>\n",
              "      <th>GPA</th>\n",
              "    </tr>\n",
              "  </thead>\n",
              "  <tbody>\n",
              "    <tr>\n",
              "      <th>0</th>\n",
              "      <td>1</td>\n",
              "      <td>1</td>\n",
              "      <td>0</td>\n",
              "      <td>2</td>\n",
              "      <td>1</td>\n",
              "      <td>3</td>\n",
              "      <td>3</td>\n",
              "      <td>2</td>\n",
              "      <td>2</td>\n",
              "      <td>3</td>\n",
              "      <td>2</td>\n",
              "      <td>1</td>\n",
              "      <td>3</td>\n",
              "      <td>0</td>\n",
              "      <td>1</td>\n",
              "      <td>1</td>\n",
              "      <td>2</td>\n",
              "      <td>0</td>\n",
              "    </tr>\n",
              "    <tr>\n",
              "      <th>1</th>\n",
              "      <td>1</td>\n",
              "      <td>1</td>\n",
              "      <td>0</td>\n",
              "      <td>1</td>\n",
              "      <td>0</td>\n",
              "      <td>1</td>\n",
              "      <td>0</td>\n",
              "      <td>0</td>\n",
              "      <td>0</td>\n",
              "      <td>0</td>\n",
              "      <td>0</td>\n",
              "      <td>0</td>\n",
              "      <td>3</td>\n",
              "      <td>2</td>\n",
              "      <td>0</td>\n",
              "      <td>0</td>\n",
              "      <td>0</td>\n",
              "      <td>0</td>\n",
              "    </tr>\n",
              "    <tr>\n",
              "      <th>2</th>\n",
              "      <td>0</td>\n",
              "      <td>0</td>\n",
              "      <td>1</td>\n",
              "      <td>1</td>\n",
              "      <td>1</td>\n",
              "      <td>1</td>\n",
              "      <td>1</td>\n",
              "      <td>0</td>\n",
              "      <td>0</td>\n",
              "      <td>1</td>\n",
              "      <td>1</td>\n",
              "      <td>0</td>\n",
              "      <td>2</td>\n",
              "      <td>0</td>\n",
              "      <td>0</td>\n",
              "      <td>0</td>\n",
              "      <td>2</td>\n",
              "      <td>0</td>\n",
              "    </tr>\n",
              "    <tr>\n",
              "      <th>3</th>\n",
              "      <td>0</td>\n",
              "      <td>0</td>\n",
              "      <td>1</td>\n",
              "      <td>2</td>\n",
              "      <td>0</td>\n",
              "      <td>1</td>\n",
              "      <td>2</td>\n",
              "      <td>2</td>\n",
              "      <td>0</td>\n",
              "      <td>0</td>\n",
              "      <td>0</td>\n",
              "      <td>1</td>\n",
              "      <td>2</td>\n",
              "      <td>0</td>\n",
              "      <td>0</td>\n",
              "      <td>2</td>\n",
              "      <td>1</td>\n",
              "      <td>0</td>\n",
              "    </tr>\n",
              "    <tr>\n",
              "      <th>4</th>\n",
              "      <td>1</td>\n",
              "      <td>0</td>\n",
              "      <td>1</td>\n",
              "      <td>0</td>\n",
              "      <td>1</td>\n",
              "      <td>1</td>\n",
              "      <td>2</td>\n",
              "      <td>0</td>\n",
              "      <td>0</td>\n",
              "      <td>2</td>\n",
              "      <td>0</td>\n",
              "      <td>0</td>\n",
              "      <td>3</td>\n",
              "      <td>0</td>\n",
              "      <td>0</td>\n",
              "      <td>1</td>\n",
              "      <td>2</td>\n",
              "      <td>1</td>\n",
              "    </tr>\n",
              "  </tbody>\n",
              "</table>\n",
              "</div>"
            ],
            "text/plain": [
              "   Gender:  Age:  Education  Interest  Depression  Sleep  Energy  Appetite  \\\n",
              "0        1     1          0         2           1      3       3         2   \n",
              "1        1     1          0         1           0      1       0         0   \n",
              "2        0     0          1         1           1      1       1         0   \n",
              "3        0     0          1         2           0      1       2         2   \n",
              "4        1     0          1         0           1      1       2         0   \n",
              "\n",
              "   Self_Worth  Concentration  Restlessness  Suicidal_Thoughts  Job  \\\n",
              "0           2              3             2                  1    3   \n",
              "1           0              0             0                  0    3   \n",
              "2           0              1             1                  0    2   \n",
              "3           0              0             0                  1    2   \n",
              "4           0              2             0                  0    3   \n",
              "\n",
              "   Accommodation  Study_Hours  Gadgets_Count  Social_Media_Hours  GPA  \n",
              "0              0            1              1                   2    0  \n",
              "1              2            0              0                   0    0  \n",
              "2              0            0              0                   2    0  \n",
              "3              0            0              2                   1    0  \n",
              "4              0            0              1                   2    1  "
            ]
          },
          "execution_count": 139,
          "metadata": {},
          "output_type": "execute_result"
        }
      ],
      "source": [
        "df.head()"
      ]
    },
    {
      "cell_type": "code",
      "execution_count": 140,
      "metadata": {
        "colab": {
          "base_uri": "https://localhost:8080/"
        },
        "id": "ZcA5gREkzI7q",
        "outputId": "7b4ba3a8-4f61-4539-96f0-b1cb26580942"
      },
      "outputs": [
        {
          "data": {
            "text/plain": [
              "Gender:               2\n",
              "Age:                  3\n",
              "Education             3\n",
              "Interest              4\n",
              "Depression            4\n",
              "Sleep                 4\n",
              "Energy                4\n",
              "Appetite              4\n",
              "Self_Worth            4\n",
              "Concentration         4\n",
              "Restlessness          4\n",
              "Suicidal_Thoughts     4\n",
              "Job                   4\n",
              "Accommodation         3\n",
              "Study_Hours           3\n",
              "Gadgets_Count         4\n",
              "Social_Media_Hours    4\n",
              "GPA                   4\n",
              "dtype: int64"
            ]
          },
          "execution_count": 140,
          "metadata": {},
          "output_type": "execute_result"
        }
      ],
      "source": [
        "df.nunique()"
      ]
    },
    {
      "cell_type": "code",
      "execution_count": 141,
      "metadata": {
        "id": "x81kHCnkzZII"
      },
      "outputs": [],
      "source": [
        "columns_to_remove = ['Appetite','Suicidal_Thoughts','Accommodation']\n",
        "\n",
        " #Remove the columns\n",
        "df = df.drop(columns_to_remove, axis=1)"
      ]
    },
    {
      "cell_type": "code",
      "execution_count": 142,
      "metadata": {
        "colab": {
          "base_uri": "https://localhost:8080/",
          "height": 270
        },
        "id": "204_vjRG1g26",
        "outputId": "2fa0377d-3685-423e-c18a-e94785344df1"
      },
      "outputs": [
        {
          "data": {
            "text/html": [
              "<div>\n",
              "<style scoped>\n",
              "    .dataframe tbody tr th:only-of-type {\n",
              "        vertical-align: middle;\n",
              "    }\n",
              "\n",
              "    .dataframe tbody tr th {\n",
              "        vertical-align: top;\n",
              "    }\n",
              "\n",
              "    .dataframe thead th {\n",
              "        text-align: right;\n",
              "    }\n",
              "</style>\n",
              "<table border=\"1\" class=\"dataframe\">\n",
              "  <thead>\n",
              "    <tr style=\"text-align: right;\">\n",
              "      <th></th>\n",
              "      <th>Gender:</th>\n",
              "      <th>Age:</th>\n",
              "      <th>Education</th>\n",
              "      <th>Interest</th>\n",
              "      <th>Depression</th>\n",
              "      <th>Sleep</th>\n",
              "      <th>Energy</th>\n",
              "      <th>Self_Worth</th>\n",
              "      <th>Concentration</th>\n",
              "      <th>Restlessness</th>\n",
              "      <th>Job</th>\n",
              "      <th>Study_Hours</th>\n",
              "      <th>Gadgets_Count</th>\n",
              "      <th>Social_Media_Hours</th>\n",
              "      <th>GPA</th>\n",
              "    </tr>\n",
              "  </thead>\n",
              "  <tbody>\n",
              "    <tr>\n",
              "      <th>0</th>\n",
              "      <td>1</td>\n",
              "      <td>1</td>\n",
              "      <td>0</td>\n",
              "      <td>2</td>\n",
              "      <td>1</td>\n",
              "      <td>3</td>\n",
              "      <td>3</td>\n",
              "      <td>2</td>\n",
              "      <td>3</td>\n",
              "      <td>2</td>\n",
              "      <td>3</td>\n",
              "      <td>1</td>\n",
              "      <td>1</td>\n",
              "      <td>2</td>\n",
              "      <td>0</td>\n",
              "    </tr>\n",
              "    <tr>\n",
              "      <th>1</th>\n",
              "      <td>1</td>\n",
              "      <td>1</td>\n",
              "      <td>0</td>\n",
              "      <td>1</td>\n",
              "      <td>0</td>\n",
              "      <td>1</td>\n",
              "      <td>0</td>\n",
              "      <td>0</td>\n",
              "      <td>0</td>\n",
              "      <td>0</td>\n",
              "      <td>3</td>\n",
              "      <td>0</td>\n",
              "      <td>0</td>\n",
              "      <td>0</td>\n",
              "      <td>0</td>\n",
              "    </tr>\n",
              "    <tr>\n",
              "      <th>2</th>\n",
              "      <td>0</td>\n",
              "      <td>0</td>\n",
              "      <td>1</td>\n",
              "      <td>1</td>\n",
              "      <td>1</td>\n",
              "      <td>1</td>\n",
              "      <td>1</td>\n",
              "      <td>0</td>\n",
              "      <td>1</td>\n",
              "      <td>1</td>\n",
              "      <td>2</td>\n",
              "      <td>0</td>\n",
              "      <td>0</td>\n",
              "      <td>2</td>\n",
              "      <td>0</td>\n",
              "    </tr>\n",
              "    <tr>\n",
              "      <th>3</th>\n",
              "      <td>0</td>\n",
              "      <td>0</td>\n",
              "      <td>1</td>\n",
              "      <td>2</td>\n",
              "      <td>0</td>\n",
              "      <td>1</td>\n",
              "      <td>2</td>\n",
              "      <td>0</td>\n",
              "      <td>0</td>\n",
              "      <td>0</td>\n",
              "      <td>2</td>\n",
              "      <td>0</td>\n",
              "      <td>2</td>\n",
              "      <td>1</td>\n",
              "      <td>0</td>\n",
              "    </tr>\n",
              "    <tr>\n",
              "      <th>4</th>\n",
              "      <td>1</td>\n",
              "      <td>0</td>\n",
              "      <td>1</td>\n",
              "      <td>0</td>\n",
              "      <td>1</td>\n",
              "      <td>1</td>\n",
              "      <td>2</td>\n",
              "      <td>0</td>\n",
              "      <td>2</td>\n",
              "      <td>0</td>\n",
              "      <td>3</td>\n",
              "      <td>0</td>\n",
              "      <td>1</td>\n",
              "      <td>2</td>\n",
              "      <td>1</td>\n",
              "    </tr>\n",
              "  </tbody>\n",
              "</table>\n",
              "</div>"
            ],
            "text/plain": [
              "   Gender:  Age:  Education  Interest  Depression  Sleep  Energy  Self_Worth  \\\n",
              "0        1     1          0         2           1      3       3           2   \n",
              "1        1     1          0         1           0      1       0           0   \n",
              "2        0     0          1         1           1      1       1           0   \n",
              "3        0     0          1         2           0      1       2           0   \n",
              "4        1     0          1         0           1      1       2           0   \n",
              "\n",
              "   Concentration  Restlessness  Job  Study_Hours  Gadgets_Count  \\\n",
              "0              3             2    3            1              1   \n",
              "1              0             0    3            0              0   \n",
              "2              1             1    2            0              0   \n",
              "3              0             0    2            0              2   \n",
              "4              2             0    3            0              1   \n",
              "\n",
              "   Social_Media_Hours  GPA  \n",
              "0                   2    0  \n",
              "1                   0    0  \n",
              "2                   2    0  \n",
              "3                   1    0  \n",
              "4                   2    1  "
            ]
          },
          "execution_count": 142,
          "metadata": {},
          "output_type": "execute_result"
        }
      ],
      "source": [
        "df.head()"
      ]
    },
    {
      "cell_type": "code",
      "execution_count": 143,
      "metadata": {
        "id": "XJB3x3hm1i8I"
      },
      "outputs": [],
      "source": [
        "X = df.drop(['Depression','GPA','Sleep'], axis=1)\n",
        "y = df['Depression']"
      ]
    },
    {
      "cell_type": "code",
      "execution_count": 144,
      "metadata": {
        "id": "D3SWC8LCdzEN"
      },
      "outputs": [],
      "source": [
        "def binary_mapping(label):\n",
        "    if label <= 1:\n",
        "        return 0\n",
        "    else:\n",
        "        return 1\n",
        "\n",
        "# Apply the binary mapping to the depression class labels\n",
        "y = np.array([binary_mapping(label) for label in y])"
      ]
    },
    {
      "cell_type": "code",
      "execution_count": 145,
      "metadata": {
        "colab": {
          "base_uri": "https://localhost:8080/"
        },
        "id": "-9NvnT2o7J0E",
        "outputId": "b578d5dd-56af-415c-b6d5-8b978c15a89c"
      },
      "outputs": [
        {
          "name": "stdout",
          "output_type": "stream",
          "text": [
            "Gender:: 1580.143692703285\n",
            "Age:: 4875.902148619257\n",
            "Education: 4382.851586314269\n",
            "Interest: 11510.318947138601\n",
            "Energy: 13040.156101786057\n",
            "Self_Worth: 23239.904289073333\n",
            "Concentration: 11148.647369854332\n",
            "Restlessness: 8036.626282493093\n",
            "Job: 6394.265173834656\n",
            "Study_Hours: 5118.985123751798\n",
            "Gadgets_Count: 5456.110448673106\n",
            "Social_Media_Hours: 5216.088835758218\n"
          ]
        }
      ],
      "source": [
        "rf = RandomForestClassifier()\n",
        "\n",
        "# Fit the classifier to the data\n",
        "rf.fit(X, y)\n",
        "\n",
        "# Get feature importances\n",
        "importances = rf.feature_importances_\n",
        "\n",
        "# Print feature importances\n",
        "for feature, importance in zip(X.columns, importances):\n",
        "    print(f\"{feature}: {importance*100000}\")"
      ]
    },
    {
      "cell_type": "code",
      "execution_count": 146,
      "metadata": {
        "id": "TsTAHG714FCH"
      },
      "outputs": [],
      "source": [
        "X_train, X_test, y_train, y_test = train_test_split(X, y, test_size=0.1, random_state=42)"
      ]
    },
    {
      "attachments": {},
      "cell_type": "markdown",
      "metadata": {
        "id": "KnUmAc8JN7UZ"
      },
      "source": [
        "#SVM"
      ]
    },
    {
      "cell_type": "code",
      "execution_count": 147,
      "metadata": {
        "id": "Lg1mGftO9wjl"
      },
      "outputs": [],
      "source": [
        "svm_model = SVC(kernel='poly',degree=3)\n",
        "svm_model.fit(X_train, y_train)\n",
        "\n",
        "# Make predictions on the testing set\n",
        "y_pred = svm_model.predict(X_test)\n"
      ]
    },
    {
      "cell_type": "code",
      "execution_count": 148,
      "metadata": {
        "colab": {
          "base_uri": "https://localhost:8080/"
        },
        "id": "6QC41XdOObao",
        "outputId": "dacacf9f-f33d-4fdd-bfdc-d680aba41f14"
      },
      "outputs": [
        {
          "data": {
            "text/plain": [
              "80.55555555555556"
            ]
          },
          "execution_count": 148,
          "metadata": {},
          "output_type": "execute_result"
        }
      ],
      "source": [
        "accuracy_score(y_test,y_pred)*100"
      ]
    },
    {
      "cell_type": "code",
      "execution_count": 149,
      "metadata": {
        "colab": {
          "base_uri": "https://localhost:8080/"
        },
        "id": "y-MhG9RrMi_7",
        "outputId": "4b650d1f-20b7-421f-c9a3-abd280cf90e0"
      },
      "outputs": [
        {
          "name": "stdout",
          "output_type": "stream",
          "text": [
            "Accuracy Report:\n",
            "              precision    recall  f1-score   support\n",
            "\n",
            "           0       0.88      0.85      0.87        27\n",
            "           1       0.60      0.67      0.63         9\n",
            "\n",
            "    accuracy                           0.81        36\n",
            "   macro avg       0.74      0.76      0.75        36\n",
            "weighted avg       0.81      0.81      0.81        36\n",
            "\n"
          ]
        }
      ],
      "source": [
        "report = classification_report(y_test, y_pred)\n",
        "print(\"Accuracy Report:\")\n",
        "print(report)\n"
      ]
    },
    {
      "attachments": {},
      "cell_type": "markdown",
      "metadata": {
        "id": "3Ls1lh4YN_MZ"
      },
      "source": [
        "#Logistic regression"
      ]
    },
    {
      "cell_type": "code",
      "execution_count": null,
      "metadata": {
        "id": "51N7Mt-iOls3"
      },
      "outputs": [],
      "source": []
    },
    {
      "attachments": {},
      "cell_type": "markdown",
      "metadata": {
        "id": "aLa68ppYSnxH"
      },
      "source": [
        "#RandomForestClassifier"
      ]
    },
    {
      "cell_type": "code",
      "execution_count": 150,
      "metadata": {
        "colab": {
          "base_uri": "https://localhost:8080/"
        },
        "id": "4vGT-yYbRTqW",
        "outputId": "67e97d1c-d974-4a94-db72-8fc5ed3d9a81"
      },
      "outputs": [
        {
          "name": "stdout",
          "output_type": "stream",
          "text": [
            "Accuracy Report:\n",
            "              precision    recall  f1-score   support\n",
            "\n",
            "           0       0.88      0.85      0.87        27\n",
            "           1       0.60      0.67      0.63         9\n",
            "\n",
            "    accuracy                           0.81        36\n",
            "   macro avg       0.74      0.76      0.75        36\n",
            "weighted avg       0.81      0.81      0.81        36\n",
            "\n"
          ]
        }
      ],
      "source": [
        "rf_classifier = RandomForestClassifier()\n",
        "\n",
        "# Train the classifier\n",
        "rf_classifier.fit(X_train, y_train)\n",
        "\n",
        "# Make predictions on the test set\n",
        "y_pred = rf_classifier.predict(X_test)\n",
        "\n",
        "report = classification_report(y_test, y_pred)\n",
        "print(\"Accuracy Report:\")\n",
        "print(report)\n"
      ]
    },
    {
      "attachments": {},
      "cell_type": "markdown",
      "metadata": {
        "id": "0w-FmISASsje"
      },
      "source": [
        "#Gradient boosting"
      ]
    },
    {
      "cell_type": "code",
      "execution_count": 151,
      "metadata": {
        "id": "KRnuYM0URWIo"
      },
      "outputs": [],
      "source": [
        "dtrain = xgb.DMatrix(X_train, label=y_train)\n",
        "dtest = xgb.DMatrix(X_test, label=y_test)\n",
        "\n",
        "# Set the hyperparameters for XGBoost\n",
        "params = {\n",
        "    'objective': 'multi:softmax',  # Multiclass classification\n",
        "    'num_class': 4,      # Number of classes\n",
        "    'max_depth': 3,                # Maximum depth of each tree\n",
        "    'eta': 0.1,                    # Learning rate\n",
        "    'gamma': 0.1,                  # Minimum loss reduction required to make a further partition on a leaf node\n",
        "}\n",
        "\n",
        "# Train the XGBoost classifier\n",
        "xgb_model = xgb.train(params, dtrain)\n",
        "\n",
        "# Make predictions on the test set\n",
        "y_pred = xgb_model.predict(dtest)\n",
        "\n",
        "# Convert predicted labels to integers\n",
        "y_pred = y_pred.astype(int)"
      ]
    },
    {
      "cell_type": "code",
      "execution_count": 152,
      "metadata": {
        "colab": {
          "base_uri": "https://localhost:8080/"
        },
        "id": "GEnO4al9RvG-",
        "outputId": "d6edbd44-1a71-425b-96c1-71e107ee3e49"
      },
      "outputs": [
        {
          "name": "stdout",
          "output_type": "stream",
          "text": [
            "Accuracy Report:\n",
            "              precision    recall  f1-score   support\n",
            "\n",
            "           0       0.88      0.85      0.87        27\n",
            "           1       0.60      0.67      0.63         9\n",
            "\n",
            "    accuracy                           0.81        36\n",
            "   macro avg       0.74      0.76      0.75        36\n",
            "weighted avg       0.81      0.81      0.81        36\n",
            "\n"
          ]
        }
      ],
      "source": [
        "report = classification_report(y_test, y_pred)\n",
        "print(\"Accuracy Report:\")\n",
        "print(report)\n"
      ]
    },
    {
      "attachments": {},
      "cell_type": "markdown",
      "metadata": {
        "id": "TbhQc0A2vrpw"
      },
      "source": [
        "#Light GBM"
      ]
    },
    {
      "cell_type": "code",
      "execution_count": null,
      "metadata": {
        "colab": {
          "base_uri": "https://localhost:8080/",
          "height": 380
        },
        "id": "XoM1ieW7VYli",
        "outputId": "78299f77-e1fd-4dbb-cc62-664670bd5145"
      },
      "outputs": [],
      "source": [
        "X_train, X_test, y_train, y_test = train_test_split(X, y, test_size=0.2, random_state=42)\n",
        "\n",
        "# Create the LightGBM dataset\n",
        "train_data = lgb.Dataset(X_train, label=y_train)\n",
        "\n",
        "# Set the hyperparameters for LightGBM\n",
        "params = {\n",
        "    'objective': 'binary',\n",
        "    'metric': 'binary_logloss',\n",
        "    'boosting_type': 'gbdt',\n",
        "    'num_leaves': 31,\n",
        "    'learning_rate': 0.05,\n",
        "    'feature_fraction': 0.9,\n",
        "    'bagging_fraction': 0.8,\n",
        "    'bagging_freq': 5,\n",
        "    'verbose': 0\n",
        "}\n",
        "\n",
        "# Train the LightGBM model\n",
        "num_rounds = 100\n",
        "lgb_model = lgb.train(params, train_data, num_rounds)\n",
        "\n",
        "# Make predictions on the test set\n",
        "y_pred = lgb_model.predict(X_test)\n",
        "y_pred = (y_pred > 0.5).astype(int)"
      ]
    },
    {
      "cell_type": "code",
      "execution_count": 153,
      "metadata": {
        "id": "-foaoa9yvwQN"
      },
      "outputs": [],
      "source": [
        "import pickle \n",
        "pickle_out=open(\"classifier.pk1\",\"wb\")\n",
        "pickle.dump(svm_model,pickle_out)\n",
        "pickle_out.close()\n"
      ]
    },
    {
      "cell_type": "code",
      "execution_count": 154,
      "metadata": {},
      "outputs": [
        {
          "data": {
            "text/plain": [
              "Index(['Gender:', 'Age:', 'Education', 'Interest', 'Depression', 'Sleep',\n",
              "       'Energy', 'Self_Worth', 'Concentration', 'Restlessness', 'Job',\n",
              "       'Study_Hours', 'Gadgets_Count', 'Social_Media_Hours', 'GPA'],\n",
              "      dtype='object')"
            ]
          },
          "execution_count": 154,
          "metadata": {},
          "output_type": "execute_result"
        }
      ],
      "source": [
        "df.columns"
      ]
    },
    {
      "cell_type": "code",
      "execution_count": 155,
      "metadata": {},
      "outputs": [
        {
          "name": "stderr",
          "output_type": "stream",
          "text": [
            "c:\\python3.10\\lib\\site-packages\\sklearn\\base.py:409: UserWarning: X does not have valid feature names, but SVC was fitted with feature names\n",
            "  warnings.warn(\n"
          ]
        }
      ],
      "source": [
        "predict=svm_model.predict([[0, 1, 0,0,\n",
        "       1, 1,3,2,\n",
        "        2,1,1,1]])"
      ]
    },
    {
      "cell_type": "code",
      "execution_count": 156,
      "metadata": {},
      "outputs": [
        {
          "data": {
            "text/html": [
              "<div>\n",
              "<style scoped>\n",
              "    .dataframe tbody tr th:only-of-type {\n",
              "        vertical-align: middle;\n",
              "    }\n",
              "\n",
              "    .dataframe tbody tr th {\n",
              "        vertical-align: top;\n",
              "    }\n",
              "\n",
              "    .dataframe thead th {\n",
              "        text-align: right;\n",
              "    }\n",
              "</style>\n",
              "<table border=\"1\" class=\"dataframe\">\n",
              "  <thead>\n",
              "    <tr style=\"text-align: right;\">\n",
              "      <th></th>\n",
              "      <th>Gender:</th>\n",
              "      <th>Age:</th>\n",
              "      <th>Education</th>\n",
              "      <th>Interest</th>\n",
              "      <th>Energy</th>\n",
              "      <th>Self_Worth</th>\n",
              "      <th>Concentration</th>\n",
              "      <th>Restlessness</th>\n",
              "      <th>Job</th>\n",
              "      <th>Study_Hours</th>\n",
              "      <th>Gadgets_Count</th>\n",
              "      <th>Social_Media_Hours</th>\n",
              "    </tr>\n",
              "  </thead>\n",
              "  <tbody>\n",
              "    <tr>\n",
              "      <th>56</th>\n",
              "      <td>1</td>\n",
              "      <td>2</td>\n",
              "      <td>2</td>\n",
              "      <td>1</td>\n",
              "      <td>1</td>\n",
              "      <td>0</td>\n",
              "      <td>1</td>\n",
              "      <td>0</td>\n",
              "      <td>1</td>\n",
              "      <td>1</td>\n",
              "      <td>0</td>\n",
              "      <td>0</td>\n",
              "    </tr>\n",
              "    <tr>\n",
              "      <th>152</th>\n",
              "      <td>0</td>\n",
              "      <td>1</td>\n",
              "      <td>0</td>\n",
              "      <td>1</td>\n",
              "      <td>2</td>\n",
              "      <td>2</td>\n",
              "      <td>3</td>\n",
              "      <td>3</td>\n",
              "      <td>0</td>\n",
              "      <td>1</td>\n",
              "      <td>1</td>\n",
              "      <td>2</td>\n",
              "    </tr>\n",
              "    <tr>\n",
              "      <th>30</th>\n",
              "      <td>0</td>\n",
              "      <td>1</td>\n",
              "      <td>0</td>\n",
              "      <td>1</td>\n",
              "      <td>1</td>\n",
              "      <td>2</td>\n",
              "      <td>1</td>\n",
              "      <td>0</td>\n",
              "      <td>2</td>\n",
              "      <td>2</td>\n",
              "      <td>0</td>\n",
              "      <td>2</td>\n",
              "    </tr>\n",
              "    <tr>\n",
              "      <th>45</th>\n",
              "      <td>0</td>\n",
              "      <td>1</td>\n",
              "      <td>2</td>\n",
              "      <td>1</td>\n",
              "      <td>3</td>\n",
              "      <td>0</td>\n",
              "      <td>3</td>\n",
              "      <td>2</td>\n",
              "      <td>1</td>\n",
              "      <td>0</td>\n",
              "      <td>0</td>\n",
              "      <td>2</td>\n",
              "    </tr>\n",
              "    <tr>\n",
              "      <th>101</th>\n",
              "      <td>0</td>\n",
              "      <td>1</td>\n",
              "      <td>0</td>\n",
              "      <td>0</td>\n",
              "      <td>3</td>\n",
              "      <td>3</td>\n",
              "      <td>3</td>\n",
              "      <td>0</td>\n",
              "      <td>2</td>\n",
              "      <td>0</td>\n",
              "      <td>0</td>\n",
              "      <td>2</td>\n",
              "    </tr>\n",
              "    <tr>\n",
              "      <th>...</th>\n",
              "      <td>...</td>\n",
              "      <td>...</td>\n",
              "      <td>...</td>\n",
              "      <td>...</td>\n",
              "      <td>...</td>\n",
              "      <td>...</td>\n",
              "      <td>...</td>\n",
              "      <td>...</td>\n",
              "      <td>...</td>\n",
              "      <td>...</td>\n",
              "      <td>...</td>\n",
              "      <td>...</td>\n",
              "    </tr>\n",
              "    <tr>\n",
              "      <th>71</th>\n",
              "      <td>0</td>\n",
              "      <td>2</td>\n",
              "      <td>2</td>\n",
              "      <td>0</td>\n",
              "      <td>1</td>\n",
              "      <td>0</td>\n",
              "      <td>0</td>\n",
              "      <td>0</td>\n",
              "      <td>1</td>\n",
              "      <td>2</td>\n",
              "      <td>1</td>\n",
              "      <td>1</td>\n",
              "    </tr>\n",
              "    <tr>\n",
              "      <th>106</th>\n",
              "      <td>0</td>\n",
              "      <td>2</td>\n",
              "      <td>0</td>\n",
              "      <td>1</td>\n",
              "      <td>1</td>\n",
              "      <td>1</td>\n",
              "      <td>1</td>\n",
              "      <td>1</td>\n",
              "      <td>0</td>\n",
              "      <td>0</td>\n",
              "      <td>0</td>\n",
              "      <td>0</td>\n",
              "    </tr>\n",
              "    <tr>\n",
              "      <th>270</th>\n",
              "      <td>0</td>\n",
              "      <td>1</td>\n",
              "      <td>0</td>\n",
              "      <td>1</td>\n",
              "      <td>3</td>\n",
              "      <td>3</td>\n",
              "      <td>2</td>\n",
              "      <td>1</td>\n",
              "      <td>2</td>\n",
              "      <td>0</td>\n",
              "      <td>1</td>\n",
              "      <td>2</td>\n",
              "    </tr>\n",
              "    <tr>\n",
              "      <th>348</th>\n",
              "      <td>0</td>\n",
              "      <td>2</td>\n",
              "      <td>0</td>\n",
              "      <td>3</td>\n",
              "      <td>1</td>\n",
              "      <td>1</td>\n",
              "      <td>1</td>\n",
              "      <td>1</td>\n",
              "      <td>0</td>\n",
              "      <td>2</td>\n",
              "      <td>0</td>\n",
              "      <td>2</td>\n",
              "    </tr>\n",
              "    <tr>\n",
              "      <th>102</th>\n",
              "      <td>0</td>\n",
              "      <td>1</td>\n",
              "      <td>0</td>\n",
              "      <td>1</td>\n",
              "      <td>1</td>\n",
              "      <td>2</td>\n",
              "      <td>1</td>\n",
              "      <td>0</td>\n",
              "      <td>3</td>\n",
              "      <td>1</td>\n",
              "      <td>0</td>\n",
              "      <td>2</td>\n",
              "    </tr>\n",
              "  </tbody>\n",
              "</table>\n",
              "<p>316 rows × 12 columns</p>\n",
              "</div>"
            ],
            "text/plain": [
              "     Gender:  Age:  Education  Interest  Energy  Self_Worth  Concentration  \\\n",
              "56         1     2          2         1       1           0              1   \n",
              "152        0     1          0         1       2           2              3   \n",
              "30         0     1          0         1       1           2              1   \n",
              "45         0     1          2         1       3           0              3   \n",
              "101        0     1          0         0       3           3              3   \n",
              "..       ...   ...        ...       ...     ...         ...            ...   \n",
              "71         0     2          2         0       1           0              0   \n",
              "106        0     2          0         1       1           1              1   \n",
              "270        0     1          0         1       3           3              2   \n",
              "348        0     2          0         3       1           1              1   \n",
              "102        0     1          0         1       1           2              1   \n",
              "\n",
              "     Restlessness  Job  Study_Hours  Gadgets_Count  Social_Media_Hours  \n",
              "56              0    1            1              0                   0  \n",
              "152             3    0            1              1                   2  \n",
              "30              0    2            2              0                   2  \n",
              "45              2    1            0              0                   2  \n",
              "101             0    2            0              0                   2  \n",
              "..            ...  ...          ...            ...                 ...  \n",
              "71              0    1            2              1                   1  \n",
              "106             1    0            0              0                   0  \n",
              "270             1    2            0              1                   2  \n",
              "348             1    0            2              0                   2  \n",
              "102             0    3            1              0                   2  \n",
              "\n",
              "[316 rows x 12 columns]"
            ]
          },
          "execution_count": 156,
          "metadata": {},
          "output_type": "execute_result"
        }
      ],
      "source": [
        "X_train"
      ]
    },
    {
      "cell_type": "code",
      "execution_count": 157,
      "metadata": {},
      "outputs": [
        {
          "data": {
            "text/plain": [
              "array([0])"
            ]
          },
          "execution_count": 157,
          "metadata": {},
          "output_type": "execute_result"
        }
      ],
      "source": [
        "predict"
      ]
    },
    {
      "cell_type": "code",
      "execution_count": null,
      "metadata": {},
      "outputs": [],
      "source": []
    }
  ],
  "metadata": {
    "colab": {
      "provenance": []
    },
    "kernelspec": {
      "display_name": "Python 3",
      "name": "python3"
    },
    "language_info": {
      "codemirror_mode": {
        "name": "ipython",
        "version": 3
      },
      "file_extension": ".py",
      "mimetype": "text/x-python",
      "name": "python",
      "nbconvert_exporter": "python",
      "pygments_lexer": "ipython3",
      "version": "3.10.1"
    }
  },
  "nbformat": 4,
  "nbformat_minor": 0
}
